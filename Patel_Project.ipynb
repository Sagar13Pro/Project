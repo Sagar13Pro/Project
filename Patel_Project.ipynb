{
 "cells": [
  {
   "cell_type": "markdown",
   "metadata": {},
   "source": [
    "# Student Id :ChinmayNandkishor_Mathakari@student.uml.edu(02007302) "
   ]
  },
  {
   "cell_type": "markdown",
   "metadata": {},
   "source": [
    "# Import libraries"
   ]
  },
  {
   "cell_type": "code",
   "execution_count": 2,
   "metadata": {},
   "outputs": [],
   "source": [
    "\n",
    "\n",
    "import re\n",
    "import os\n",
    "import sys\n",
    "import html\n",
    "import spacy\n",
    "import pandas as pd\n",
    "import matplotlib.pyplot as plt\n",
    "\n",
    "\n",
    "from sklearn.svm import SVC\n",
    "from sklearn.svm import LinearSVC\n",
    "from sklearn.pipeline import Pipeline\n",
    "from sklearn.dummy import DummyClassifier\n",
    "from sklearn.metrics import accuracy_score\n",
    "from sklearn.metrics import confusion_matrix\n",
    "from sklearn.model_selection import GridSearchCV\n",
    "from sklearn.metrics import plot_confusion_matrix\n",
    "from sklearn.metrics import classification_report\n",
    "from sklearn.model_selection import cross_val_score\n",
    "from sklearn.model_selection import train_test_split\n",
    "from sklearn.feature_extraction.text import TfidfVectorizer"
   ]
  },
  {
   "cell_type": "markdown",
   "metadata": {},
   "source": [
    "# Q1.) Clean and remove short bug reports as in TextClassification.ipynb. Organize the remaining data to a data frame called df."
   ]
  },
  {
   "cell_type": "code",
   "execution_count": 3,
   "metadata": {},
   "outputs": [
    {
     "data": {
      "text/html": [
       "<div>\n",
       "<style scoped>\n",
       "    .dataframe tbody tr th:only-of-type {\n",
       "        vertical-align: middle;\n",
       "    }\n",
       "\n",
       "    .dataframe tbody tr th {\n",
       "        vertical-align: top;\n",
       "    }\n",
       "\n",
       "    .dataframe thead th {\n",
       "        text-align: right;\n",
       "    }\n",
       "</style>\n",
       "<table border=\"1\" class=\"dataframe\">\n",
       "  <thead>\n",
       "    <tr style=\"text-align: right;\">\n",
       "      <th></th>\n",
       "      <th>Issue_id</th>\n",
       "      <th>Priority</th>\n",
       "      <th>Component</th>\n",
       "      <th>Title</th>\n",
       "      <th>Description</th>\n",
       "    </tr>\n",
       "  </thead>\n",
       "  <tbody>\n",
       "    <tr>\n",
       "      <th>0</th>\n",
       "      <td>1518</td>\n",
       "      <td>P1</td>\n",
       "      <td>Debug</td>\n",
       "      <td>Icons needed for actions (1GI5UXW)</td>\n",
       "      <td>JGS (8/8/01 5:20:19 PM); \\tWe need enabled; di...</td>\n",
       "    </tr>\n",
       "    <tr>\n",
       "      <th>1</th>\n",
       "      <td>1519</td>\n",
       "      <td>P3</td>\n",
       "      <td>Debug</td>\n",
       "      <td>README: Hit count not reset (1GET20Y)</td>\n",
       "      <td>JGS (6/4/01 11:43:47 AM); \\tSet a breakpoint i...</td>\n",
       "    </tr>\n",
       "    <tr>\n",
       "      <th>2</th>\n",
       "      <td>1520</td>\n",
       "      <td>P3</td>\n",
       "      <td>Debug</td>\n",
       "      <td>Use styled text in console (1G9S1YF)</td>\n",
       "      <td>DW (2/26/01 5:56:36 PM); \\tCould allow users t...</td>\n",
       "    </tr>\n",
       "    <tr>\n",
       "      <th>3</th>\n",
       "      <td>1521</td>\n",
       "      <td>P3</td>\n",
       "      <td>Debug</td>\n",
       "      <td>StringBuffer representation (1GE3BFA)</td>\n",
       "      <td>JGS (5/21/01 2:09:10 PM); \\tTo be consistent; ...</td>\n",
       "    </tr>\n",
       "    <tr>\n",
       "      <th>4</th>\n",
       "      <td>1522</td>\n",
       "      <td>P2</td>\n",
       "      <td>Debug</td>\n",
       "      <td>Feature: use #toString to display variable val...</td>\n",
       "      <td>DW (9/27/00 11:12:31 AM); \\tCurrently; the typ...</td>\n",
       "    </tr>\n",
       "  </tbody>\n",
       "</table>\n",
       "</div>"
      ],
      "text/plain": [
       "   Issue_id Priority Component  \\\n",
       "0      1518       P1     Debug   \n",
       "1      1519       P3     Debug   \n",
       "2      1520       P3     Debug   \n",
       "3      1521       P3     Debug   \n",
       "4      1522       P2     Debug   \n",
       "\n",
       "                                               Title  \\\n",
       "0                 Icons needed for actions (1GI5UXW)   \n",
       "1              README: Hit count not reset (1GET20Y)   \n",
       "2               Use styled text in console (1G9S1YF)   \n",
       "3              StringBuffer representation (1GE3BFA)   \n",
       "4  Feature: use #toString to display variable val...   \n",
       "\n",
       "                                         Description  \n",
       "0  JGS (8/8/01 5:20:19 PM); \\tWe need enabled; di...  \n",
       "1  JGS (6/4/01 11:43:47 AM); \\tSet a breakpoint i...  \n",
       "2  DW (2/26/01 5:56:36 PM); \\tCould allow users t...  \n",
       "3  JGS (5/21/01 2:09:10 PM); \\tTo be consistent; ...  \n",
       "4  DW (9/27/00 11:12:31 AM); \\tCurrently; the typ...  "
      ]
     },
     "execution_count": 3,
     "metadata": {},
     "output_type": "execute_result"
    }
   ],
   "source": [
    "file = \"eclipse_jdt.csv\"\n",
    "df = pd.read_csv(file)\n",
    "df = df[['Issue_id','Priority','Component','Title','Description']]\n",
    "df.head(5)"
   ]
  },
  {
   "cell_type": "code",
   "execution_count": 4,
   "metadata": {},
   "outputs": [
    {
     "data": {
      "text/html": [
       "<div>\n",
       "<style scoped>\n",
       "    .dataframe tbody tr th:only-of-type {\n",
       "        vertical-align: middle;\n",
       "    }\n",
       "\n",
       "    .dataframe tbody tr th {\n",
       "        vertical-align: top;\n",
       "    }\n",
       "\n",
       "    .dataframe thead th {\n",
       "        text-align: right;\n",
       "    }\n",
       "</style>\n",
       "<table border=\"1\" class=\"dataframe\">\n",
       "  <thead>\n",
       "    <tr style=\"text-align: right;\">\n",
       "      <th></th>\n",
       "      <th>Priority</th>\n",
       "      <th>text</th>\n",
       "    </tr>\n",
       "  </thead>\n",
       "  <tbody>\n",
       "    <tr>\n",
       "      <th>0</th>\n",
       "      <td>P1</td>\n",
       "      <td>Icons needed for actions (1GI5UXW) JGS (8/8/01...</td>\n",
       "    </tr>\n",
       "    <tr>\n",
       "      <th>1</th>\n",
       "      <td>P3</td>\n",
       "      <td>README: Hit count not reset (1GET20Y) JGS (6/4...</td>\n",
       "    </tr>\n",
       "    <tr>\n",
       "      <th>2</th>\n",
       "      <td>P3</td>\n",
       "      <td>Use styled text in console (1G9S1YF) DW (2/26/...</td>\n",
       "    </tr>\n",
       "    <tr>\n",
       "      <th>3</th>\n",
       "      <td>P3</td>\n",
       "      <td>StringBuffer representation (1GE3BFA) JGS (5/2...</td>\n",
       "    </tr>\n",
       "    <tr>\n",
       "      <th>4</th>\n",
       "      <td>P2</td>\n",
       "      <td>Feature: use #toString to display variable val...</td>\n",
       "    </tr>\n",
       "  </tbody>\n",
       "</table>\n",
       "</div>"
      ],
      "text/plain": [
       "  Priority                                               text\n",
       "0       P1  Icons needed for actions (1GI5UXW) JGS (8/8/01...\n",
       "1       P3  README: Hit count not reset (1GET20Y) JGS (6/4...\n",
       "2       P3  Use styled text in console (1G9S1YF) DW (2/26/...\n",
       "3       P3  StringBuffer representation (1GE3BFA) JGS (5/2...\n",
       "4       P2  Feature: use #toString to display variable val..."
      ]
     },
     "execution_count": 4,
     "metadata": {},
     "output_type": "execute_result"
    }
   ],
   "source": [
    "df = df[['Title','Description','Priority']]\n",
    "df = df.dropna()\n",
    "df['text'] = df['Title'] + ' ' + df['Description']\n",
    "df = df.drop(columns=['Title','Description'])\n",
    "df.head(5)"
   ]
  },
  {
   "cell_type": "code",
   "execution_count": 5,
   "metadata": {
    "scrolled": true
   },
   "outputs": [
    {
     "data": {
      "text/html": [
       "<div>\n",
       "<style scoped>\n",
       "    .dataframe tbody tr th:only-of-type {\n",
       "        vertical-align: middle;\n",
       "    }\n",
       "\n",
       "    .dataframe tbody tr th {\n",
       "        vertical-align: top;\n",
       "    }\n",
       "\n",
       "    .dataframe thead th {\n",
       "        text-align: right;\n",
       "    }\n",
       "</style>\n",
       "<table border=\"1\" class=\"dataframe\">\n",
       "  <thead>\n",
       "    <tr style=\"text-align: right;\">\n",
       "      <th></th>\n",
       "      <th>Priority</th>\n",
       "      <th>text</th>\n",
       "    </tr>\n",
       "  </thead>\n",
       "  <tbody>\n",
       "    <tr>\n",
       "      <th>0</th>\n",
       "      <td>P1</td>\n",
       "      <td>Icons needed for actions GI UXW JGS PM We need...</td>\n",
       "    </tr>\n",
       "    <tr>\n",
       "      <th>1</th>\n",
       "      <td>P3</td>\n",
       "      <td>README Hit count not reset GET Y JGS AM Set a ...</td>\n",
       "    </tr>\n",
       "    <tr>\n",
       "      <th>2</th>\n",
       "      <td>P3</td>\n",
       "      <td>Use styled text in console G S YF DW PM Could ...</td>\n",
       "    </tr>\n",
       "    <tr>\n",
       "      <th>3</th>\n",
       "      <td>P3</td>\n",
       "      <td>StringBuffer representation GE BFA JGS PM To b...</td>\n",
       "    </tr>\n",
       "    <tr>\n",
       "      <th>4</th>\n",
       "      <td>P2</td>\n",
       "      <td>Feature use toString to display variable value...</td>\n",
       "    </tr>\n",
       "  </tbody>\n",
       "</table>\n",
       "</div>"
      ],
      "text/plain": [
       "  Priority                                               text\n",
       "0       P1  Icons needed for actions GI UXW JGS PM We need...\n",
       "1       P3  README Hit count not reset GET Y JGS AM Set a ...\n",
       "2       P3  Use styled text in console G S YF DW PM Could ...\n",
       "3       P3  StringBuffer representation GE BFA JGS PM To b...\n",
       "4       P2  Feature use toString to display variable value..."
      ]
     },
     "execution_count": 5,
     "metadata": {},
     "output_type": "execute_result"
    }
   ],
   "source": [
    "# Method defined to clean text \n",
    "def clean(text):\n",
    "    text = html.unescape(text) # convert html escapes like &amp; to characters.\n",
    "    text = re.sub(r'<[^<>]*>', ' ', text) # tags like <tab>\n",
    "    text = re.sub(r'\\[([^\\[\\]]*)\\]\\([^\\(\\)]*\\)', r'\\1', text) # markdown URLs like [Some text](https://....)\n",
    "    text = re.sub(r'\\[[^\\[\\]]*\\]', ' ', text) # text or code in brackets like [0]\n",
    "    text = re.sub(r'(?:^|\\s)[&#<>{}\\[\\]+|\\\\:-]{1,}(?:\\s|$)', ' ', text) # standalone sequences of specials, matches &# but not #cool\n",
    "    text = re.sub(r'(?:^|\\s)[\\-=\\+]{2,}(?:\\s|$)', ' ', text) # standalone sequences of hyphens like --- or ==\n",
    "    text = re.sub('[^A-Za-z]+', ' ', text) # remove any characters other than alphabets\n",
    "    text = re.sub(r'\\s+', ' ', text) # sequences of white spaces\n",
    "    return text.strip()\n",
    "\n",
    "\n",
    "df['text'] = df['text'].apply(clean)\n",
    "df = df[df['text'].str.len() > 50]\n",
    "df.head(5)"
   ]
  },
  {
   "cell_type": "markdown",
   "metadata": {},
   "source": [
    "# Q2.) Generate a balanced data frame called df_balanced from df by restricting the number of entries in the P3 category to 5000."
   ]
  },
  {
   "cell_type": "code",
   "execution_count": 6,
   "metadata": {},
   "outputs": [
    {
     "data": {
      "text/html": [
       "<div>\n",
       "<style scoped>\n",
       "    .dataframe tbody tr th:only-of-type {\n",
       "        vertical-align: middle;\n",
       "    }\n",
       "\n",
       "    .dataframe tbody tr th {\n",
       "        vertical-align: top;\n",
       "    }\n",
       "\n",
       "    .dataframe thead th {\n",
       "        text-align: right;\n",
       "    }\n",
       "</style>\n",
       "<table border=\"1\" class=\"dataframe\">\n",
       "  <thead>\n",
       "    <tr style=\"text-align: right;\">\n",
       "      <th></th>\n",
       "      <th>Priority</th>\n",
       "      <th>text</th>\n",
       "    </tr>\n",
       "  </thead>\n",
       "  <tbody>\n",
       "    <tr>\n",
       "      <th>0</th>\n",
       "      <td>P1</td>\n",
       "      <td>Icons needed for actions GI UXW JGS PM We need...</td>\n",
       "    </tr>\n",
       "    <tr>\n",
       "      <th>4</th>\n",
       "      <td>P2</td>\n",
       "      <td>Feature use toString to display variable value...</td>\n",
       "    </tr>\n",
       "    <tr>\n",
       "      <th>6</th>\n",
       "      <td>P2</td>\n",
       "      <td>Feature Displaying Instruction pointer G A CG ...</td>\n",
       "    </tr>\n",
       "    <tr>\n",
       "      <th>7</th>\n",
       "      <td>P2</td>\n",
       "      <td>Feature Locks and Monitors G A ZH DW AM Suppor...</td>\n",
       "    </tr>\n",
       "    <tr>\n",
       "      <th>13</th>\n",
       "      <td>P1</td>\n",
       "      <td>Feature navigate from console output to resour...</td>\n",
       "    </tr>\n",
       "    <tr>\n",
       "      <th>...</th>\n",
       "      <td>...</td>\n",
       "      <td>...</td>\n",
       "    </tr>\n",
       "    <tr>\n",
       "      <th>4955</th>\n",
       "      <td>P3</td>\n",
       "      <td>JavaDoc doclet destination doesnt reflect sele...</td>\n",
       "    </tr>\n",
       "    <tr>\n",
       "      <th>15468</th>\n",
       "      <td>P3</td>\n",
       "      <td>Undo doesnt work for Rename Dont try this at h...</td>\n",
       "    </tr>\n",
       "    <tr>\n",
       "      <th>28549</th>\n",
       "      <td>P3</td>\n",
       "      <td>Internal compiler error for varags The followi...</td>\n",
       "    </tr>\n",
       "    <tr>\n",
       "      <th>30608</th>\n",
       "      <td>P3</td>\n",
       "      <td>compiler fails to detect ambiguous method when...</td>\n",
       "    </tr>\n",
       "    <tr>\n",
       "      <th>1872</th>\n",
       "      <td>P3</td>\n",
       "      <td>java lang Error Unresolved compilation problem...</td>\n",
       "    </tr>\n",
       "  </tbody>\n",
       "</table>\n",
       "<p>10543 rows × 2 columns</p>\n",
       "</div>"
      ],
      "text/plain": [
       "      Priority                                               text\n",
       "0           P1  Icons needed for actions GI UXW JGS PM We need...\n",
       "4           P2  Feature use toString to display variable value...\n",
       "6           P2  Feature Displaying Instruction pointer G A CG ...\n",
       "7           P2  Feature Locks and Monitors G A ZH DW AM Suppor...\n",
       "13          P1  Feature navigate from console output to resour...\n",
       "...        ...                                                ...\n",
       "4955        P3  JavaDoc doclet destination doesnt reflect sele...\n",
       "15468       P3  Undo doesnt work for Rename Dont try this at h...\n",
       "28549       P3  Internal compiler error for varags The followi...\n",
       "30608       P3  compiler fails to detect ambiguous method when...\n",
       "1872        P3  java lang Error Unresolved compilation problem...\n",
       "\n",
       "[10543 rows x 2 columns]"
      ]
     },
     "execution_count": 6,
     "metadata": {},
     "output_type": "execute_result"
    }
   ],
   "source": [
    "# Filter bug reports with priority P3 and sample 5000 rows from it\n",
    "df_sample_P3 = df[df['Priority'] == 'P3'].sample(n = 5000, random_state=123)\n",
    "\n",
    "# Create a separate dataframe containing all other bug reports\n",
    "df_sample_Rest = df[df['Priority'] != 'P3']\n",
    "\n",
    "# Concatenate the two dataframes to create the new balanced bug reports dataset\n",
    "df_balanced = pd.concat([df_sample_Rest, df_sample_P3])\n",
    "\n",
    "# Check the status of the class imbalance\n",
    "df_balanced['Priority'].value_counts()\n",
    "df_balanced"
   ]
  },
  {
   "cell_type": "markdown",
   "metadata": {},
   "source": [
    "# Q3.) Lemmatize words and use only 'nav' lemmas for classifications, where 'nav' stands for nouns, pronouns, adjectives, adverbs, and verbs as in FeatureExtraction."
   ]
  },
  {
   "cell_type": "code",
   "execution_count": 7,
   "metadata": {},
   "outputs": [
    {
     "name": "stdout",
     "output_type": "stream",
     "text": [
      "Feature Extraction\n",
      "--------------------------------------------------------------------------------------------------------------------\n",
      "Words :   ['icon']\n",
      "Words :   ['need']\n",
      "Words :   ['action']\n",
      "Words :   ['jgs']\n",
      "Words :   ['pm']\n",
      "Words :   ['need']\n",
      "Words :   ['Hit']\n",
      "Words :   ['count']\n",
      "Words :   ['reset']\n",
      "Words :   ['jgs']\n",
      "Words :   ['am']\n",
      "Words :   ['use']\n",
      "Words :   ['style']\n",
      "Words :   ['text']\n",
      "Words :   ['console']\n",
      "Words :   ['representation']\n",
      "Words :   ['jgs']\n",
      "Words :   ['pm']\n",
      "Words :   ['b']\n",
      "Words :   ['feature']\n",
      "Words :   ['use']\n",
      "Words :   ['tostring']\n",
      "Words :   ['display']\n",
      "Words :   ['variable']\n",
      "Words :   ['value']\n",
      "Words :   ['error']\n",
      "Words :   ['nullness']\n",
      "Words :   ['annotation']\n",
      "Words :   ['development']\n",
      "Words :   ['face']\n",
      "Words :   ['lot']\n",
      "Words :   ['correct']\n",
      "Words :   ['wrong']\n",
      "Words :   ['declarat']\n",
      "Words :   ['show']\n",
      "Words :   ['fully']\n",
      "Words :   ['code']\n",
      "Words :   ['editor']\n",
      "Words :   ['create']\n",
      "Words :   ['text']\n",
      "Words :   ['dtype']\n",
      "Words :   ['object']\n",
      "\n",
      "Total Count :  42\n"
     ]
    }
   ],
   "source": [
    "#logic for the feature extraction such as nouns, pronouns, adjectives, adverbs and verbs\n",
    "\n",
    "nlp = spacy.load(\"en_core_web_sm\")\n",
    "token = list()\n",
    "speech = str(df['text'])\n",
    "doc = nlp(speech)\n",
    "\n",
    "nav = (\"NOUN\", \"VERB\",\"ADJ\",\"ADV\")\n",
    "\n",
    "count = 0\n",
    "\n",
    "\n",
    "print(\"Feature Extraction\")\n",
    "print(\"--------------------------------------------------------------------------------------------------------------------\")\n",
    "for sent in doc.sents:\n",
    "    for i in sent:\n",
    "        if i.pos_ in nav :\n",
    "            word = re.sub(r\"[,.“”]\", \"\", str(i.lemma_))\n",
    "            word = word.split(\"\\\\n\")\n",
    "            print(f\"Words :   {word}\")\n",
    "            token.append(word[0])\n",
    "            count+=1\n",
    "            \n",
    "print(\"\\nTotal Count : \" , count)"
   ]
  },
  {
   "cell_type": "code",
   "execution_count": 8,
   "metadata": {},
   "outputs": [
    {
     "name": "stdout",
     "output_type": "stream",
     "text": [
      "                                                    text Priority\n",
      "0      Icons needed for actions GI UXW JGS PM We need...       P1\n",
      "4      Feature use toString to display variable value...       P2\n",
      "6      Feature Displaying Instruction pointer G A CG ...       P2\n",
      "7      Feature Locks and Monitors G A ZH DW AM Suppor...       P2\n",
      "13     Feature navigate from console output to resour...       P1\n",
      "...                                                  ...      ...\n",
      "4955   JavaDoc doclet destination doesnt reflect sele...       P3\n",
      "15468  Undo doesnt work for Rename Dont try this at h...       P3\n",
      "28549  Internal compiler error for varags The followi...       P3\n",
      "30608  compiler fails to detect ambiguous method when...       P3\n",
      "1872   java lang Error Unresolved compilation problem...       P3\n",
      "\n",
      "[10543 rows x 2 columns]\n"
     ]
    }
   ],
   "source": [
    "df_new = df_balanced[['text', 'Priority']]\n",
    "df_new = df_new.dropna()\n",
    "print(df_new)"
   ]
  },
  {
   "cell_type": "code",
   "execution_count": 9,
   "metadata": {},
   "outputs": [
    {
     "data": {
      "text/plain": [
       "\"# Loading the balanced dataframe\\n\\ndf_new = df_balanced[['text', 'Priority']]\\ndf_new = df_new.dropna()\\n\\n# Step 1 - Data Preparation\\n\\ndf_new['text'] = df_new['text'].apply(clean)\\n\\n# Step 2 - Train-Test Split\\nX_train_new, X_test_new, Y_train_new, Y_test_new = train_test_split(df_new['text'],\\n                                                    df_new['Priority'],\\n                                                    test_size=0.2,\\n                                                    random_state=42,\\n                                                    stratify=df_new['Priority'])\\n\\nprint('Number of Training Data : ', X_train_new.shape[0])\\nprint('Number of Test Data : ', X_test_new.shape[0])\\n\""
      ]
     },
     "execution_count": 9,
     "metadata": {},
     "output_type": "execute_result"
    }
   ],
   "source": [
    "'''# Loading the balanced dataframe\n",
    "\n",
    "df_new = df_balanced[['text', 'Priority']]\n",
    "df_new = df_new.dropna()\n",
    "\n",
    "# Step 1 - Data Preparation\n",
    "\n",
    "df_new['text'] = df_new['text'].apply(clean)\n",
    "\n",
    "# Step 2 - Train-Test Split\n",
    "X_train_new, X_test_new, Y_train_new, Y_test_new = train_test_split(df_new['text'],\n",
    "                                                    df_new['Priority'],\n",
    "                                                    test_size=0.2,\n",
    "                                                    random_state=42,\n",
    "                                                    stratify=df_new['Priority'])\n",
    "\n",
    "print('Number of Training Data : ', X_train_new.shape[0])\n",
    "print('Number of Test Data : ', X_test_new.shape[0])\n",
    "'''"
   ]
  },
  {
   "cell_type": "code",
   "execution_count": 10,
   "metadata": {},
   "outputs": [
    {
     "data": {
      "text/plain": [
       "'# Step 3 - Training the Machine Learning model\\n\\ntfidf_new = TfidfVectorizer(min_df=10, ngram_range=(1, 2), stop_words=\"english\")\\nX_train_new_tf = tfidf_new.fit_transform(X_train_new)\\n\\nmodel_LSVC_new = LinearSVC(random_state=0, tol=1e-5) ### using LinearSVC\\nmodel_LSVC_new.fit(X_train_new_tf, Y_train_new)\\n'"
      ]
     },
     "execution_count": 10,
     "metadata": {},
     "output_type": "execute_result"
    }
   ],
   "source": [
    "'''# Step 3 - Training the Machine Learning model\n",
    "\n",
    "tfidf_new = TfidfVectorizer(min_df=10, ngram_range=(1, 2), stop_words=\"english\")\n",
    "X_train_new_tf = tfidf_new.fit_transform(X_train_new)\n",
    "\n",
    "model_LSVC_new = LinearSVC(random_state=0, tol=1e-5) ### using LinearSVC\n",
    "model_LSVC_new.fit(X_train_new_tf, Y_train_new)\n",
    "'''"
   ]
  },
  {
   "cell_type": "code",
   "execution_count": 11,
   "metadata": {},
   "outputs": [
    {
     "data": {
      "text/plain": [
       "'# Step 4 - Model Evaluation\\n\\nX_test_new_tf = tfidf_new.transform(X_test_new)\\nY_pred_LSVC_new = model_LSVC_new.predict(X_test_new_tf)'"
      ]
     },
     "execution_count": 11,
     "metadata": {},
     "output_type": "execute_result"
    }
   ],
   "source": [
    "'''# Step 4 - Model Evaluation\n",
    "\n",
    "X_test_new_tf = tfidf_new.transform(X_test_new)\n",
    "Y_pred_LSVC_new = model_LSVC_new.predict(X_test_new_tf)'''"
   ]
  },
  {
   "cell_type": "code",
   "execution_count": 12,
   "metadata": {},
   "outputs": [
    {
     "data": {
      "text/plain": [
       "'# Vectorization\\n\\n#tfidf = TfidfVectorizer(min_df = 10, ngram_range=(1,2), stop_words=\"english\")\\ndf_new_tf = tfidf_new.fit_transform(df_new[\\'text\\']).toarray()\\n\\n# Cross Validation with 5 batches (folds)\\n\\nscores = cross_val_score(estimator = model_LSVC_new,\\n                         X = df_new_tf,\\n                         y = df_new[\\'Priority\\'],\\n                         cv = 5) \\n\\nprint (\"Validation scores for each iteration : \", scores)\\nprint (\"Mean value of validation scores : \", scores.mean())\\nprint (\"Standard deviation of validation scores : \", scores.std())'"
      ]
     },
     "execution_count": 12,
     "metadata": {},
     "output_type": "execute_result"
    }
   ],
   "source": [
    "'''# Vectorization\n",
    "\n",
    "#tfidf = TfidfVectorizer(min_df = 10, ngram_range=(1,2), stop_words=\"english\")\n",
    "df_new_tf = tfidf_new.fit_transform(df_new['text']).toarray()\n",
    "\n",
    "# Cross Validation with 5 batches (folds)\n",
    "\n",
    "scores = cross_val_score(estimator = model_LSVC_new,\n",
    "                         X = df_new_tf,\n",
    "                         y = df_new['Priority'],\n",
    "                         cv = 5) \n",
    "\n",
    "print (\"Validation scores for each iteration : \", scores)\n",
    "print (\"Mean value of validation scores : \", scores.mean())\n",
    "print (\"Standard deviation of validation scores : \", scores.std())'''"
   ]
  },
  {
   "cell_type": "code",
   "execution_count": 13,
   "metadata": {},
   "outputs": [
    {
     "name": "stdout",
     "output_type": "stream",
     "text": [
      "\n",
      "\n",
      "Grid Search Results : \n",
      "------------------------------------------------------------------------------\n",
      "Best_Parameters :  {'LinearSVC__loss': 'hinge', 'LinearSVC__max_iter': 10000, 'LinearSVC__penalty': 'l2', 'tfidf__min_df': 5, 'tfidf__ngram_range': (1, 6)}\n",
      "\n",
      "\n",
      "Best_Result :  0.5034536184041827\n"
     ]
    }
   ],
   "source": [
    "from sklearn.model_selection import train_test_split\n",
    "from sklearn.feature_extraction.text import TfidfVectorizer\n",
    "from sklearn.svm import SVC\n",
    "from sklearn.metrics import accuracy_score\n",
    "from sklearn.metrics import confusion_matrix\n",
    "from sklearn.metrics import classification_report\n",
    "from sklearn.metrics import plot_confusion_matrix\n",
    "from sklearn.model_selection import cross_val_score\n",
    "from sklearn.pipeline import Pipeline\n",
    "from sklearn.model_selection import GridSearchCV\n",
    "from sklearn.svm import LinearSVC\n",
    "from sklearn.dummy import DummyClassifier\n",
    "\n",
    "\n",
    "training_pipeline = Pipeline(\n",
    "    steps=[('tfidf', TfidfVectorizer(stop_words=\"english\")), \n",
    "           ('LinearSVC', LinearSVC(random_state=21, tol=1e-5))])\n",
    "\n",
    "grid_param = [{\n",
    "'tfidf__min_df': [5, 10],\n",
    "'tfidf__ngram_range': [(1, 3), (1, 6)],\n",
    "'LinearSVC__penalty': ['l2'],\n",
    "'LinearSVC__loss': ['hinge'],\n",
    "'LinearSVC__max_iter': [10000]\n",
    "}, {\n",
    "'tfidf__min_df': [5, 10],\n",
    "'tfidf__ngram_range': [(1, 3), (1, 6)],\n",
    "'LinearSVC__C': [1, 10],\n",
    "'LinearSVC__tol': [1e-2, 1e-3]\n",
    "}]\n",
    "\n",
    "\n",
    "gridSearchProcessor = GridSearchCV(estimator=training_pipeline,\n",
    "                                   param_grid=grid_param,\n",
    "                                   cv=5)\n",
    "\n",
    "gridSearchProcessor.fit(df_balanced['text'], df_balanced['Priority'])\n",
    "\n",
    "\n",
    "print(\"\\n\")\n",
    "print(\"Grid Search Results : \")\n",
    "print(\"------------------------------------------------------------------------------\")\n",
    "best_params = gridSearchProcessor.best_params_\n",
    "print(\"Best_Parameters : \", best_params)\n",
    "\n",
    "best_result = gridSearchProcessor.best_score_\n",
    "print(\"\\n\")\n",
    "print(\"Best_Result : \", best_result)\n"
   ]
  },
  {
   "cell_type": "code",
   "execution_count": 14,
   "metadata": {},
   "outputs": [
    {
     "name": "stdout",
     "output_type": "stream",
     "text": [
      "\n",
      "Grid Search Results : \n",
      "------------------------------------------------------------------------------\n",
      "Best_Parameters :  {'SVC__C': 1, 'SVC__gamma': 0.001, 'SVC__kernel': 'rbf', 'SVC__tol': 0.01, 'tfidf__min_df': 5, 'tfidf__ngram_range': (1, 3)}\n",
      "Best_Result :  0.4742483206850321\n"
     ]
    }
   ],
   "source": [
    "from sklearn.model_selection import train_test_split\n",
    "from sklearn.feature_extraction.text import TfidfVectorizer\n",
    "from sklearn.svm import SVC\n",
    "from sklearn.metrics import accuracy_score\n",
    "from sklearn.metrics import confusion_matrix\n",
    "from sklearn.metrics import classification_report\n",
    "from sklearn.metrics import plot_confusion_matrix\n",
    "from sklearn.model_selection import cross_val_score\n",
    "from sklearn.pipeline import Pipeline\n",
    "from sklearn.model_selection import GridSearchCV\n",
    "from sklearn.svm import SVC\n",
    "from sklearn.dummy import DummyClassifier\n",
    "\n",
    "training_pipeline = Pipeline(\n",
    "    steps=[('tfidf', TfidfVectorizer(stop_words=\"english\")), \n",
    "           ('SVC', SVC(random_state=21, tol=1e-5))])\n",
    "\n",
    "tuned_parameters = [{\n",
    "    'tfidf__min_df': [5, 10],\n",
    "    'tfidf__ngram_range': [(1, 3), (1, 6)],\n",
    "    'SVC__C': [1, 10, 100, 1000],\n",
    "    'SVC__kernel': ['rbf', 'linear'], \n",
    "    'SVC__gamma': [1e-3, 1e-4],\n",
    "    \"SVC__tol\": [1e-2, 1e-10]\n",
    "}]\n",
    "\n",
    "gridSearchProcessor = GridSearchCV(estimator=training_pipeline,\n",
    "                                   param_grid=tuned_parameters,\n",
    "                                   cv=2, n_jobs=-1)\n",
    "\n",
    "gridSearchProcessor.fit(df_balanced['text'], df_balanced['Priority'])\n",
    "print()\n",
    "print(\"Grid Search Results : \")\n",
    "print(\"------------------------------------------------------------------------------\")\n",
    "best_params_svc = gridSearchProcessor.best_params_\n",
    "print(\"Best_Parameters : \", best_params_svc)\n",
    "\n",
    "best_result_svc = gridSearchProcessor.best_score_\n",
    "print(\"Best_Result : \", best_result_svc)"
   ]
  },
  {
   "cell_type": "code",
   "execution_count": 15,
   "metadata": {},
   "outputs": [
    {
     "name": "stdout",
     "output_type": "stream",
     "text": [
      "Number of Training Data :  8434\n",
      "Number of Test Data :  2109\n"
     ]
    }
   ],
   "source": [
    "# Loading the balanced dataframe\n",
    "\n",
    "df_new = df_balanced[['text', 'Priority']]\n",
    "df_new = df_new.dropna()\n",
    "\n",
    "# Step 1 - Data Preparation\n",
    "\n",
    "df_new['text'] = df_new['text'].apply(clean)\n",
    "\n",
    "# Step 2 - Train-Test Split\n",
    "X_train, X_test, Y_train, Y_test = train_test_split(df_new['text'],\n",
    "                                                    df_new['Priority'],\n",
    "                                                    test_size=0.2, ### 80-20 train-test split\n",
    "                                                    random_state=42,\n",
    "                                                    stratify=df_new['Priority'])\n",
    "\n",
    "print('Number of Training Data : ', X_train.shape[0])\n",
    "print('Number of Test Data : ', X_test.shape[0])"
   ]
  },
  {
   "cell_type": "code",
   "execution_count": 16,
   "metadata": {},
   "outputs": [
    {
     "name": "stdout",
     "output_type": "stream",
     "text": [
      "\n",
      "\n",
      "Accuracy_Score :  0.5030820293978189\n"
     ]
    }
   ],
   "source": [
    "from sklearn.svm import LinearSVC\n",
    "from sklearn.datasets import load_iris\n",
    "from sklearn.datasets import make_classification\n",
    "from sklearn.model_selection import train_test_split\n",
    "from sklearn.model_selection import cross_val_score\n",
    "from sklearn.metrics import confusion_matrix\n",
    "from sklearn.metrics import classification_report\n",
    "from sklearn.feature_extraction.text import TfidfVectorizer\n",
    "\n",
    "tfidf = TfidfVectorizer(min_df = 10, ngram_range=(1,2), stop_words=\"english\") \n",
    "### from sklearn\n",
    "### min_df = 10 means that terms appearing in strickly less than 10 documents are ignored\n",
    "X_train_tf = tfidf.fit_transform(X_train)\n",
    "\n",
    "model_LSVC = LinearSVC(random_state=0, tol=1e-5) \n",
    "### tol: Tolerance for stopping criteria; 1e-5 = e^{-5} = exp(-5)\n",
    "model_LSVC.fit(X_train_tf, Y_train)\n",
    "\n",
    "X_test_tf = tfidf.transform(X_test)\n",
    "Y_pred_LSVC = model_LSVC.predict(X_test_tf) ### evaluation\n",
    "print(\"\\n\")\n",
    "print ('Accuracy_Score : ', accuracy_score(Y_test, Y_pred_LSVC))"
   ]
  },
  {
   "cell_type": "code",
   "execution_count": 17,
   "metadata": {},
   "outputs": [
    {
     "name": "stdout",
     "output_type": "stream",
     "text": [
      "\n",
      "\n",
      "Accuracy_Score :  0.5367472735893789\n"
     ]
    }
   ],
   "source": [
    "from sklearn.datasets import load_iris\n",
    "from sklearn.datasets import make_classification\n",
    "from sklearn.model_selection import train_test_split\n",
    "from sklearn.model_selection import cross_val_score\n",
    "from sklearn.metrics import confusion_matrix\n",
    "from sklearn.metrics import classification_report\n",
    "\n",
    "tfidf = TfidfVectorizer(min_df = 10, ngram_range=(1,2), stop_words=\"english\") \n",
    "### from sklearn\n",
    "### min_df = 10 means that terms appearing in strickly less than 10 documents are ignored\n",
    "X_train_tf = tfidf.fit_transform(X_train)\n",
    "\n",
    "model_SVC = SVC(random_state=0, tol=1e-5) \n",
    "### tol: Tolerance for stopping criteria; 1e-5 = e^{-5} = exp(-5)\n",
    "model_SVC.fit(X_train_tf, Y_train)\n",
    "\n",
    "X_test_tf = tfidf.transform(X_test)\n",
    "Y_pred_SVC = model_SVC.predict(X_test_tf) ### evaluation\n",
    "print(\"\\n\")\n",
    "print ('Accuracy_Score : ', accuracy_score(Y_test, Y_pred_SVC))"
   ]
  },
  {
   "cell_type": "code",
   "execution_count": 18,
   "metadata": {},
   "outputs": [
    {
     "data": {
      "text/plain": [
       "SVC(random_state=21)"
      ]
     },
     "execution_count": 18,
     "metadata": {},
     "output_type": "execute_result"
    }
   ],
   "source": [
    "from sklearn.feature_extraction.text import TfidfVectorizer\n",
    "import numpy as np\n",
    "\n",
    "LSVC_tfidf = TfidfVectorizer(min_df=best_params['tfidf__min_df'],\n",
    "                           ngram_range=best_params['tfidf__ngram_range'],\n",
    "                           stop_words='english')\n",
    "LSVC_X_train_tf = LSVC_tfidf.fit_transform(X_train)\n",
    "\n",
    "\n",
    "best_modal_lsvc=LinearSVC(random_state=21,penalty = 'l2',max_iter = 10000,\n",
    "                          loss= 'hinge')\n",
    "best_modal_lsvc.fit(LSVC_X_train_tf,Y_train)\n",
    "\n",
    "\n",
    "\n",
    "\n",
    "\n",
    "SVC_tfidf = TfidfVectorizer(min_df = best_params['tfidf__min_df'],\n",
    "                           ngram_range = best_params['tfidf__ngram_range'],\n",
    "                           stop_words = 'english')\n",
    "\n",
    "SVC_X_train_tf = SVC_tfidf.fit_transform(X_train)\n",
    "best_modal_svc = SVC(random_state=21)\n",
    "best_modal_svc.fit(SVC_X_train_tf,Y_train)"
   ]
  },
  {
   "cell_type": "code",
   "execution_count": null,
   "metadata": {},
   "outputs": [],
   "source": []
  },
  {
   "cell_type": "code",
   "execution_count": 19,
   "metadata": {},
   "outputs": [
    {
     "name": "stdout",
     "output_type": "stream",
     "text": [
      "\n",
      "LinearSVC_Accuracy_Score :  0.5376955903271693\n",
      "-------------------------------------------------------------------------------------------------------\n",
      "              precision    recall  f1-score   support\n",
      "\n",
      "          P1       0.48      0.25      0.32       224\n",
      "          P2       0.45      0.32      0.37       607\n",
      "          P3       0.57      0.82      0.67      1000\n",
      "          P4       0.50      0.29      0.37       228\n",
      "          P5       0.00      0.00      0.00        50\n",
      "\n",
      "    accuracy                           0.54      2109\n",
      "   macro avg       0.40      0.34      0.35      2109\n",
      "weighted avg       0.51      0.54      0.50      2109\n",
      "\n",
      "\n",
      "SVC_Accuracy_Score -  0.5339023233760076\n",
      "-------------------------------------------------------------------------------------------------------\n",
      "              precision    recall  f1-score   support\n",
      "\n",
      "          P1       0.61      0.16      0.25       224\n",
      "          P2       0.45      0.26      0.33       607\n",
      "          P3       0.54      0.90      0.68      1000\n",
      "          P4       0.66      0.16      0.26       228\n",
      "          P5       0.00      0.00      0.00        50\n",
      "\n",
      "    accuracy                           0.53      2109\n",
      "   macro avg       0.45      0.29      0.30      2109\n",
      "weighted avg       0.52      0.53      0.47      2109\n",
      "\n"
     ]
    },
    {
     "name": "stderr",
     "output_type": "stream",
     "text": [
      "/Users/sagar/opt/anaconda3/lib/python3.9/site-packages/sklearn/metrics/_classification.py:1318: UndefinedMetricWarning: Precision and F-score are ill-defined and being set to 0.0 in labels with no predicted samples. Use `zero_division` parameter to control this behavior.\n",
      "  _warn_prf(average, modifier, msg_start, len(result))\n",
      "/Users/sagar/opt/anaconda3/lib/python3.9/site-packages/sklearn/metrics/_classification.py:1318: UndefinedMetricWarning: Precision and F-score are ill-defined and being set to 0.0 in labels with no predicted samples. Use `zero_division` parameter to control this behavior.\n",
      "  _warn_prf(average, modifier, msg_start, len(result))\n",
      "/Users/sagar/opt/anaconda3/lib/python3.9/site-packages/sklearn/metrics/_classification.py:1318: UndefinedMetricWarning: Precision and F-score are ill-defined and being set to 0.0 in labels with no predicted samples. Use `zero_division` parameter to control this behavior.\n",
      "  _warn_prf(average, modifier, msg_start, len(result))\n"
     ]
    }
   ],
   "source": [
    "LSVC_X_test_tf=LSVC_tfidf.transform(X_test)\n",
    "Y_pred_LSVC=best_modal_lsvc.predict(LSVC_X_test_tf)\n",
    "print ('\\nLinearSVC_Accuracy_Score : ', accuracy_score(Y_test, Y_pred_LSVC))\n",
    "print(\"-------------------------------------------------------------------------------------------------------\")\n",
    "print (classification_report(Y_test, Y_pred_LSVC))\n",
    "\n",
    "\n",
    "\n",
    "SVC_X_test_tf=SVC_tfidf.transform(X_test)\n",
    "Y_pred_SVC=best_modal_svc.predict(SVC_X_test_tf)\n",
    "print ('\\nSVC_Accuracy_Score - ', accuracy_score(Y_test, Y_pred_SVC))\n",
    "print(\"-------------------------------------------------------------------------------------------------------\")\n",
    "print (classification_report(Y_test, Y_pred_SVC))"
   ]
  },
  {
   "cell_type": "code",
   "execution_count": 20,
   "metadata": {
    "scrolled": true
   },
   "outputs": [
    {
     "name": "stdout",
     "output_type": "stream",
     "text": [
      "\n",
      "\n",
      "Accuracy Score -  0.5400663821716454\n",
      "              precision    recall  f1-score   support\n",
      "\n",
      "          P1       0.52      0.20      0.29       224\n",
      "          P2       0.44      0.34      0.39       607\n",
      "          P3       0.57      0.83      0.68      1000\n",
      "          P4       0.58      0.23      0.33       228\n",
      "          P5       0.00      0.00      0.00        50\n",
      "\n",
      "    accuracy                           0.54      2109\n",
      "   macro avg       0.42      0.32      0.34      2109\n",
      "weighted avg       0.52      0.54      0.50      2109\n",
      "\n"
     ]
    },
    {
     "name": "stderr",
     "output_type": "stream",
     "text": [
      "/Users/sagar/opt/anaconda3/lib/python3.9/site-packages/sklearn/metrics/_classification.py:1318: UndefinedMetricWarning: Precision and F-score are ill-defined and being set to 0.0 in labels with no predicted samples. Use `zero_division` parameter to control this behavior.\n",
      "  _warn_prf(average, modifier, msg_start, len(result))\n",
      "/Users/sagar/opt/anaconda3/lib/python3.9/site-packages/sklearn/metrics/_classification.py:1318: UndefinedMetricWarning: Precision and F-score are ill-defined and being set to 0.0 in labels with no predicted samples. Use `zero_division` parameter to control this behavior.\n",
      "  _warn_prf(average, modifier, msg_start, len(result))\n",
      "/Users/sagar/opt/anaconda3/lib/python3.9/site-packages/sklearn/metrics/_classification.py:1318: UndefinedMetricWarning: Precision and F-score are ill-defined and being set to 0.0 in labels with no predicted samples. Use `zero_division` parameter to control this behavior.\n",
      "  _warn_prf(average, modifier, msg_start, len(result))\n"
     ]
    }
   ],
   "source": [
    "linear_modal_SVC = SVC(C = best_params_svc['SVC__C'],\n",
    "                       kernel = 'linear',gamma=best_params_svc['SVC__gamma'],tol=best_params_svc['SVC__tol'],probability=True,random_state=42)\n",
    "\n",
    "linear_modal_SVC.fit(SVC_X_train_tf, Y_train)\n",
    "\n",
    "SVC_X_test_tf = SVC_tfidf.transform(X_test)\n",
    "\n",
    "Y_pred_Linear_Kernal_SVC= linear_modal_SVC.predict(SVC_X_test_tf)\n",
    "print()\n",
    "print ('\\nAccuracy Score - ', accuracy_score(Y_test, Y_pred_Linear_Kernal_SVC))\n",
    "print (classification_report(Y_test, Y_pred_Linear_Kernal_SVC))"
   ]
  },
  {
   "cell_type": "code",
   "execution_count": 21,
   "metadata": {},
   "outputs": [
    {
     "name": "stdout",
     "output_type": "stream",
     "text": [
      "\n",
      "\n",
      "Accuracy Score -  0.474158368895211\n",
      "              precision    recall  f1-score   support\n",
      "\n",
      "          P1       0.00      0.00      0.00       224\n",
      "          P2       0.00      0.00      0.00       607\n",
      "          P3       0.47      1.00      0.64      1000\n",
      "          P4       0.00      0.00      0.00       228\n",
      "          P5       0.00      0.00      0.00        50\n",
      "\n",
      "    accuracy                           0.47      2109\n",
      "   macro avg       0.09      0.20      0.13      2109\n",
      "weighted avg       0.22      0.47      0.31      2109\n",
      "\n"
     ]
    },
    {
     "name": "stderr",
     "output_type": "stream",
     "text": [
      "/Users/sagar/opt/anaconda3/lib/python3.9/site-packages/sklearn/metrics/_classification.py:1318: UndefinedMetricWarning: Precision and F-score are ill-defined and being set to 0.0 in labels with no predicted samples. Use `zero_division` parameter to control this behavior.\n",
      "  _warn_prf(average, modifier, msg_start, len(result))\n",
      "/Users/sagar/opt/anaconda3/lib/python3.9/site-packages/sklearn/metrics/_classification.py:1318: UndefinedMetricWarning: Precision and F-score are ill-defined and being set to 0.0 in labels with no predicted samples. Use `zero_division` parameter to control this behavior.\n",
      "  _warn_prf(average, modifier, msg_start, len(result))\n",
      "/Users/sagar/opt/anaconda3/lib/python3.9/site-packages/sklearn/metrics/_classification.py:1318: UndefinedMetricWarning: Precision and F-score are ill-defined and being set to 0.0 in labels with no predicted samples. Use `zero_division` parameter to control this behavior.\n",
      "  _warn_prf(average, modifier, msg_start, len(result))\n"
     ]
    }
   ],
   "source": [
    "rbf_modal_SVC=SVC(C = best_params_svc['SVC__C'],kernel = 'rbf',gamma=best_params_svc['SVC__gamma'],tol=best_params_svc['SVC__tol'],probability=True,random_state=42)\n",
    "rbf_modal_SVC.fit(SVC_X_train_tf, Y_train)\n",
    "\n",
    "SVC_X_test_tf=SVC_tfidf.transform(X_test)\n",
    "\n",
    "Y_pred_rbf_Kernal_SVC= rbf_modal_SVC.predict(SVC_X_test_tf)\n",
    "print()\n",
    "print ('\\nAccuracy Score - ', accuracy_score(Y_test, Y_pred_rbf_Kernal_SVC))\n",
    "print (classification_report(Y_test, Y_pred_rbf_Kernal_SVC))"
   ]
  },
  {
   "cell_type": "code",
   "execution_count": 22,
   "metadata": {},
   "outputs": [
    {
     "name": "stdout",
     "output_type": "stream",
     "text": [
      "                                                   text actual predicted\n",
      "0     Using backspace in Code Assist causes menu to ...     P3        P3\n",
      "1     Unable to run debug a program Hi with the newe...     P3        P3\n",
      "2     Java compiler doesnt properly flag invalid pro...     P3        P3\n",
      "3     Incorrect hover description The description sh...     P3        P2\n",
      "4     Enhance additional info popup JavaDoc window t...     P2        P3\n",
      "...                                                 ...    ...       ...\n",
      "2104  Replace with latest from repository closes Jav...     P3        P2\n",
      "2105  package names truncated in compilation dialog ...     P3        P3\n",
      "2106  Configure access rules should use the new conf...     P3        P3\n",
      "2107  JDTCompilerAdapter doesnt use user preference ...     P3        P3\n",
      "2108  ObjectActionDelegate hierarchy memory leak Thi...     P2        P1\n",
      "\n",
      "[2109 rows x 3 columns]\n",
      "                                                   text actual predicted\n",
      "0     Using backspace in Code Assist causes menu to ...     P3        P3\n",
      "1     Unable to run debug a program Hi with the newe...     P3        P3\n",
      "2     Java compiler doesnt properly flag invalid pro...     P3        P3\n",
      "3     Incorrect hover description The description sh...     P3        P2\n",
      "4     Enhance additional info popup JavaDoc window t...     P2        P3\n",
      "...                                                 ...    ...       ...\n",
      "2104  Replace with latest from repository closes Jav...     P3        P2\n",
      "2105  package names truncated in compilation dialog ...     P3        P3\n",
      "2106  Configure access rules should use the new conf...     P3        P3\n",
      "2107  JDTCompilerAdapter doesnt use user preference ...     P3        P3\n",
      "2108  ObjectActionDelegate hierarchy memory leak Thi...     P2        P2\n",
      "\n",
      "[2109 rows x 3 columns]\n"
     ]
    }
   ],
   "source": [
    "Y_pred_LSVC=best_modal_lsvc.predict(LSVC_X_test_tf)\n",
    "LSVC_results= pd.DataFrame({'text':X_test.values,'actual':Y_test.values,'predicted':Y_pred_LSVC})\n",
    "print(LSVC_results)\n",
    "\n",
    "Y_pred_SVC=model_SVC.predict(X_test_tf)\n",
    "SVC_results=pd.DataFrame({'text':X_test.values,'actual':Y_test.values,'predicted':Y_pred_SVC})\n",
    "print(SVC_results)\n",
    "\n",
    "Y_pred_Linear_Kernal_SVC=linear_modal_SVC.predict(SVC_X_test_tf)\n",
    "Linear_SVC_results=pd.DataFrame({'text':X_test.values,'actual':Y_test.values,'predicted':Y_pred_Linear_Kernal_SVC})\n",
    "\n",
    "Y_pred_rbf_Kernal_SVC=rbf_modal_SVC.predict(SVC_X_test_tf)\n",
    "rbf_SVC_results=pd.DataFrame({'text':X_test.values,'actual':Y_test.values,'predicted':Y_pred_rbf_Kernal_SVC})"
   ]
  },
  {
   "cell_type": "code",
   "execution_count": 23,
   "metadata": {},
   "outputs": [
    {
     "name": "stdout",
     "output_type": "stream",
     "text": [
      "[0.         0.         0.         ... 0.         0.02349588 0.        ]\n",
      "[33, 49922, 34882, 32096, 30944]\n",
      "[43704, 50894, 16021, 31325, 28002]\n",
      "[33, 49922, 34882, 32096, 30944, 43704, 50894, 16021, 31325, 28002]\n"
     ]
    },
    {
     "name": "stderr",
     "output_type": "stream",
     "text": [
      "/Users/sagar/opt/anaconda3/lib/python3.9/site-packages/sklearn/utils/deprecation.py:87: FutureWarning: Function get_feature_names is deprecated; get_feature_names is deprecated in 1.0 and will be removed in 1.2. Please use get_feature_names_out instead.\n",
      "  warnings.warn(msg, category=FutureWarning)\n"
     ]
    },
    {
     "data": {
      "text/html": [
       "<div>\n",
       "<style scoped>\n",
       "    .dataframe tbody tr th:only-of-type {\n",
       "        vertical-align: middle;\n",
       "    }\n",
       "\n",
       "    .dataframe tbody tr th {\n",
       "        vertical-align: top;\n",
       "    }\n",
       "\n",
       "    .dataframe thead th {\n",
       "        text-align: right;\n",
       "    }\n",
       "</style>\n",
       "<table border=\"1\" class=\"dataframe\">\n",
       "  <thead>\n",
       "    <tr style=\"text-align: right;\">\n",
       "      <th></th>\n",
       "      <th>coefficient</th>\n",
       "    </tr>\n",
       "    <tr>\n",
       "      <th>feature</th>\n",
       "      <th></th>\n",
       "    </tr>\n",
       "  </thead>\n",
       "  <tbody>\n",
       "    <tr>\n",
       "      <th>able select</th>\n",
       "      <td>-0.077287</td>\n",
       "    </tr>\n",
       "    <tr>\n",
       "      <th>aa</th>\n",
       "      <td>0.000000</td>\n",
       "    </tr>\n",
       "    <tr>\n",
       "      <th>ab</th>\n",
       "      <td>0.000000</td>\n",
       "    </tr>\n",
       "    <tr>\n",
       "      <th>abc</th>\n",
       "      <td>0.000000</td>\n",
       "    </tr>\n",
       "    <tr>\n",
       "      <th>ability</th>\n",
       "      <td>0.000000</td>\n",
       "    </tr>\n",
       "    <tr>\n",
       "      <th>able</th>\n",
       "      <td>0.000000</td>\n",
       "    </tr>\n",
       "    <tr>\n",
       "      <th>able reproduce</th>\n",
       "      <td>0.000000</td>\n",
       "    </tr>\n",
       "    <tr>\n",
       "      <th>able specify</th>\n",
       "      <td>0.021652</td>\n",
       "    </tr>\n",
       "    <tr>\n",
       "      <th>able set</th>\n",
       "      <td>0.338433</td>\n",
       "    </tr>\n",
       "    <tr>\n",
       "      <th>able use</th>\n",
       "      <td>0.360305</td>\n",
       "    </tr>\n",
       "  </tbody>\n",
       "</table>\n",
       "</div>"
      ],
      "text/plain": [
       "                coefficient\n",
       "feature                    \n",
       "able select       -0.077287\n",
       "aa                 0.000000\n",
       "ab                 0.000000\n",
       "abc                0.000000\n",
       "ability            0.000000\n",
       "able               0.000000\n",
       "able reproduce     0.000000\n",
       "able specify       0.021652\n",
       "able set           0.338433\n",
       "able use           0.360305"
      ]
     },
     "execution_count": 23,
     "metadata": {},
     "output_type": "execute_result"
    }
   ],
   "source": [
    "linear_modal_SVC.coef_\n",
    "\n",
    "# coef = linear_modal_SVC.coef_[8].A[0]\n",
    "# vocabulary_positions = coef.argsort()\n",
    "# vocabulary = tfidf.get_feature_names()\n",
    "\n",
    "# top_words = 5\n",
    "# top_positive_coef = vocabulary_positions[-top_words:].tolist()\n",
    "# top_negative_coef = vocabulary_positions[:top_words].tolist()\n",
    "# print(top_positive_coef)\n",
    "# print(top_negative_coef)\n",
    "\n",
    "# core_ui = pd.DataFrame([[vocabulary[c], coef[c]] for c in top_positive_coef + top_negative_coef], \n",
    "#                           columns=[\"feature\", \"coefficient\"]).sort_values(\"coefficient\")\n",
    "\n",
    "coef = linear_modal_SVC.coef_[9].A[0]\n",
    "print(coef)\n",
    "vocabulary_positions = coef.argsort()\n",
    "vocabulary = tfidf.get_feature_names()\n",
    "top_words = 5\n",
    "top_positive_coef = vocabulary_positions[-top_words:].tolist()\n",
    "top_negative_coef = vocabulary_positions[:top_words].tolist()\n",
    "print(top_positive_coef)\n",
    "print(top_negative_coef)\n",
    "print(top_positive_coef + top_negative_coef)\n",
    "core_ui = pd.DataFrame([[vocabulary[c], coef[c]] for c in range(len(top_positive_coef+top_negative_coef))], \n",
    "                          columns=[\"feature\", \"coefficient\"]).sort_values(\"coefficient\")\n",
    "core_ui.set_index(\"feature\")"
   ]
  },
  {
   "cell_type": "code",
   "execution_count": 26,
   "metadata": {},
   "outputs": [
    {
     "data": {
      "text/html": [
       "<div>\n",
       "<style scoped>\n",
       "    .dataframe tbody tr th:only-of-type {\n",
       "        vertical-align: middle;\n",
       "    }\n",
       "\n",
       "    .dataframe tbody tr th {\n",
       "        vertical-align: top;\n",
       "    }\n",
       "\n",
       "    .dataframe thead th {\n",
       "        text-align: right;\n",
       "    }\n",
       "</style>\n",
       "<table border=\"1\" class=\"dataframe\">\n",
       "  <thead>\n",
       "    <tr style=\"text-align: right;\">\n",
       "      <th></th>\n",
       "      <th>index</th>\n",
       "      <th>text</th>\n",
       "      <th>actual</th>\n",
       "      <th>predicted</th>\n",
       "      <th>max_probability</th>\n",
       "    </tr>\n",
       "  </thead>\n",
       "  <tbody>\n",
       "    <tr>\n",
       "      <th>3</th>\n",
       "      <td>3</td>\n",
       "      <td>Incorrect hover description The description sh...</td>\n",
       "      <td>P3</td>\n",
       "      <td>P2</td>\n",
       "      <td>P2</td>\n",
       "    </tr>\n",
       "    <tr>\n",
       "      <th>4</th>\n",
       "      <td>4</td>\n",
       "      <td>Enhance additional info popup JavaDoc window t...</td>\n",
       "      <td>P2</td>\n",
       "      <td>P3</td>\n",
       "      <td>P3</td>\n",
       "    </tr>\n",
       "    <tr>\n",
       "      <th>5</th>\n",
       "      <td>5</td>\n",
       "      <td>Code assist should not just beep suggest to sh...</td>\n",
       "      <td>P2</td>\n",
       "      <td>P3</td>\n",
       "      <td>P3</td>\n",
       "    </tr>\n",
       "    <tr>\n",
       "      <th>6</th>\n",
       "      <td>6</td>\n",
       "      <td>Override Methods doesnt handle unicodes Using ...</td>\n",
       "      <td>P4</td>\n",
       "      <td>P3</td>\n",
       "      <td>P3</td>\n",
       "    </tr>\n",
       "    <tr>\n",
       "      <th>9</th>\n",
       "      <td>9</td>\n",
       "      <td>ClassCastException expanding inspect expressio...</td>\n",
       "      <td>P1</td>\n",
       "      <td>P3</td>\n",
       "      <td>P3</td>\n",
       "    </tr>\n",
       "    <tr>\n",
       "      <th>13</th>\n",
       "      <td>13</td>\n",
       "      <td>NPE opening editor when some plugins disabled ...</td>\n",
       "      <td>P1</td>\n",
       "      <td>P2</td>\n",
       "      <td>P2</td>\n",
       "    </tr>\n",
       "    <tr>\n",
       "      <th>14</th>\n",
       "      <td>14</td>\n",
       "      <td>Add from local history formatting GF GP TM SDK...</td>\n",
       "      <td>P1</td>\n",
       "      <td>P2</td>\n",
       "      <td>P2</td>\n",
       "    </tr>\n",
       "    <tr>\n",
       "      <th>15</th>\n",
       "      <td>15</td>\n",
       "      <td>unable to retrieve system properties Olivier r...</td>\n",
       "      <td>P2</td>\n",
       "      <td>P3</td>\n",
       "      <td>unable to retrieve system properties Olivier r...</td>\n",
       "    </tr>\n",
       "    <tr>\n",
       "      <th>16</th>\n",
       "      <td>16</td>\n",
       "      <td>preference page strings missing in latest as i...</td>\n",
       "      <td>P1</td>\n",
       "      <td>P3</td>\n",
       "      <td>preference page strings missing in latest as i...</td>\n",
       "    </tr>\n",
       "    <tr>\n",
       "      <th>18</th>\n",
       "      <td>18</td>\n",
       "      <td>Extract Interface superfluos final argument mo...</td>\n",
       "      <td>P4</td>\n",
       "      <td>P3</td>\n",
       "      <td>P3</td>\n",
       "    </tr>\n",
       "  </tbody>\n",
       "</table>\n",
       "</div>"
      ],
      "text/plain": [
       "    index                                               text actual predicted  \\\n",
       "3       3  Incorrect hover description The description sh...     P3        P2   \n",
       "4       4  Enhance additional info popup JavaDoc window t...     P2        P3   \n",
       "5       5  Code assist should not just beep suggest to sh...     P2        P3   \n",
       "6       6  Override Methods doesnt handle unicodes Using ...     P4        P3   \n",
       "9       9  ClassCastException expanding inspect expressio...     P1        P3   \n",
       "13     13  NPE opening editor when some plugins disabled ...     P1        P2   \n",
       "14     14  Add from local history formatting GF GP TM SDK...     P1        P2   \n",
       "15     15  unable to retrieve system properties Olivier r...     P2        P3   \n",
       "16     16  preference page strings missing in latest as i...     P1        P3   \n",
       "18     18  Extract Interface superfluos final argument mo...     P4        P3   \n",
       "\n",
       "                                      max_probability  \n",
       "3                                                  P2  \n",
       "4                                                  P3  \n",
       "5                                                  P3  \n",
       "6                                                  P3  \n",
       "9                                                  P3  \n",
       "13                                                 P2  \n",
       "14                                                 P2  \n",
       "15  unable to retrieve system properties Olivier r...  \n",
       "16  preference page strings missing in latest as i...  \n",
       "18                                                 P3  "
      ]
     },
     "execution_count": 26,
     "metadata": {},
     "output_type": "execute_result"
    }
   ],
   "source": [
    "from sklearn.pipeline import make_pipeline\n",
    "pipeline = make_pipeline(tfidf, rbf_modal_SVC)\n",
    "result = pd.DataFrame({ 'text': X_test.values, 'actual': Y_test.values, 'predicted': Y_pred_SVC })\n",
    "class_names = [\"text\", \"predicted\"]\n",
    "prob = rbf_modal_SVC.predict_proba(SVC_X_test_tf)\n",
    "prob_svc = prob\n",
    "# new dataframe for explainable results\n",
    "er = result.copy().reset_index() ### er stands for \"explain result\"\n",
    "explain_result = er\n",
    "er['max_probability'] = er[class_names].max(axis=1)\n",
    "class_names = [\"text\", \"predict\"]\n",
    "from lime.lime_text import LimeTextExplainer\n",
    "explainer = LimeTextExplainer(class_names=class_names)\n",
    "er[er[\"predicted\"] != er[\"actual\"]].head(10)"
   ]
  },
  {
   "cell_type": "code",
   "execution_count": null,
   "metadata": {},
   "outputs": [],
   "source": []
  },
  {
   "cell_type": "code",
   "execution_count": null,
   "metadata": {},
   "outputs": [],
   "source": []
  }
 ],
 "metadata": {
  "kernelspec": {
   "display_name": "Python 3 (ipykernel)",
   "language": "python",
   "name": "python3"
  },
  "language_info": {
   "codemirror_mode": {
    "name": "ipython",
    "version": 3
   },
   "file_extension": ".py",
   "mimetype": "text/x-python",
   "name": "python",
   "nbconvert_exporter": "python",
   "pygments_lexer": "ipython3",
   "version": "3.9.7"
  }
 },
 "nbformat": 4,
 "nbformat_minor": 2
}
